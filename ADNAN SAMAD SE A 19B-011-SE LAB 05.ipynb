{
 "cells": [
  {
   "cell_type": "code",
   "execution_count": 17,
   "metadata": {},
   "outputs": [
    {
     "name": "stdout",
     "output_type": "stream",
     "text": [
      "Enter the radius: 2\n",
      "Enter the height: 3\n",
      "The area of cylinder is 62.83cm\n",
      "Enter the radius 1\n",
      "Enter the height 2\n",
      "The volume of cylinder is 6.28cm³\n"
     ]
    }
   ],
   "source": [
    "# Q1 calculating area and volume of cylinder with UDF\n",
    "\n",
    "from math import pi\n",
    "def area():\n",
    "    \n",
    "    rad = int(input(\"Enter the radius: \"))\n",
    "    height = int(input(\"Enter the height: \"))\n",
    "    a =2*pi*rad*height+2*pi*rad**2\n",
    "    print(\"The area of cylinder is {0:.{1}f}cm\".format(a,2))\n",
    "area()\n",
    "\n",
    "def volume():\n",
    "    \n",
    "    r =  int(input(\"Enter the radius \"))\n",
    "    h = int(input(\"Enter the height \"))\n",
    "    v = pi*r**2*h\n",
    "    print(\"The volume of cylinder is {0:.{1}f}cm\\u00b3\".format(v,2))\n",
    "volume()"
   ]
  },
  {
   "cell_type": "code",
   "execution_count": 2,
   "metadata": {},
   "outputs": [
    {
     "name": "stdout",
     "output_type": "stream",
     "text": [
      "Enter the length of rectangle 2\n",
      "Enter the width of rectangle 2\n",
      "\n",
      "The area of rectangle is 4.00cm² \n",
      "\n",
      "Enter the length of the rectangle 2\n",
      "Enter the width of the rectangle 2\n",
      "\n",
      "The perimeter of rectangle is 8.0cm²\n"
     ]
    }
   ],
   "source": [
    "# Q2 calculating area and perimeter of rectangle UDF\n",
    "\n",
    "def area():\n",
    "    \n",
    "    length = int(input(\"Enter the length of rectangle \"))\n",
    "    width = int(input(\"Enter the width of rectangle \"))\n",
    "    area = length*width\n",
    "    print(\"\\nThe area of rectangle is {0:.{1}f}cm \".format(area,2))\n",
    "area()\n",
    "def perimeter():\n",
    "    \n",
    "    length = int(input(\"\\nEnter the length of the rectangle \"))\n",
    "    width = int(input(\"Enter the width of the rectangle \"))\n",
    "    perimeter = 2*(length+width)\n",
    "    print(\"\\nThe perimeter of rectangle is {0:.{1}f}cm\".format(perimeter,1))\n",
    "perimeter()"
   ]
  },
  {
   "cell_type": "code",
   "execution_count": 5,
   "metadata": {},
   "outputs": [
    {
     "name": "stdout",
     "output_type": "stream",
     "text": [
      "Enter the first number 3\n",
      "Ether the common difference 6\n",
      "Enter the nth number 35\n",
      "The nth term is  207\n",
      "Do you want to continue \n",
      "YES or NO YES\n",
      "Enter the nth number 45\n",
      "The nth term is  267\n",
      "Do you want to continue \n",
      "YES or NO YES\n",
      "Enter the nth number 96\n",
      "The nth term is  573\n",
      "Do you want to continue \n",
      "YES or NO NO\n",
      "Thank you sir enjoy your day\n"
     ]
    }
   ],
   "source": [
    "# Q3 calculating nth term of number with UDF\n",
    "\n",
    "def number():\n",
    "    \n",
    "    f = int(input(\"Enter the first number \"))\n",
    "    d = int(input(\"Ether the common difference \"))\n",
    "    y = 'YES'\n",
    "    for i in range (0,100):\n",
    "        if y == 'YES':\n",
    "            a = int(input(\"Enter the nth number \"))\n",
    "            num = f + (a-1)*d\n",
    "            print(\"The nth term is \",num)\n",
    "            print(\"Do you want to continue \")\n",
    "            y = input(\"YES or NO \")\n",
    "    if y=='NO':\n",
    "        print(\"Thank you sir enjoy your day\")\n",
    "    else:\n",
    "        print(\"You enter a wrong string\")\n",
    "number()\n",
    "        "
   ]
  },
  {
   "cell_type": "code",
   "execution_count": 7,
   "metadata": {},
   "outputs": [
    {
     "name": "stdout",
     "output_type": "stream",
     "text": [
      "Enter the word Civic\n",
      "Yes giving word is palindrome\n"
     ]
    }
   ],
   "source": [
    "# Q4 To check giving string is palindrome or not with UDF\n",
    "\n",
    "def palindrome():\n",
    "    \n",
    "    x = str(input(\"Enter the word \"))\n",
    "    y = x.casefold()\n",
    "    z = y[::-1]\n",
    "    if y == z:\n",
    "        print(\"Yes giving word is palindrome\")\n",
    "    else:\n",
    "        print(\"Sorry giving word is not palindrome\")\n",
    "palindrome()"
   ]
  },
  {
   "cell_type": "code",
   "execution_count": 8,
   "metadata": {},
   "outputs": [
    {
     "name": "stdout",
     "output_type": "stream",
     "text": [
      "\t\tEnter your name\t\t\t\tADNAN SAMAD\n",
      "\t\tEnter your father name\t\t\tMIR SAMAD\n",
      "\t\tEnter your Roll No\t\t\t10025\n",
      "\t\tEnter the marks of Mathematcis\t\t89\n",
      "\t\tEnter the marks of Computer\t\t98\n",
      "\t\tEnter the marks of Physics\t\t67\n",
      "\t\tEnter the marks of Urdu\t\t\t52\n",
      "\t\tEnter the marks of English\t\t57\n",
      "\n",
      "\t\t\t....MATRIC MARKS SHEET....\n",
      "\n",
      "\t\tName           ADNAN SAMAD\n",
      "\n",
      "\t\tFather Name    MIR SAMAD\n",
      "\n",
      "\t\tRoll NO        10025\n",
      "\n",
      "\n",
      "\t\tSUBJECT              Total marks\t\tObtain marks\n",
      "\n",
      "\t\tMathematics    \t\t100 \t\t\t   89.0\n",
      "\n",
      "\t\tComputer       \t\t100 \t\t\t   98.0\n",
      "\n",
      "\t\tPhysics        \t\t100 \t\t\t   67.0\n",
      "\n",
      "\t\tUrdu           \t\t100 \t\t\t   52.0\n",
      "\n",
      "\t\tEnglish        \t\t100 \t\t\t   57.0\n",
      "\n",
      "\t\tPercentage\t       72.6 %\n",
      "\n",
      "\t\tYour grade is\t\t  A\n"
     ]
    }
   ],
   "source": [
    "# Q5 Create a mark sheet with UDF\n",
    "\n",
    "def marksheet():\n",
    "     \n",
    "    name = str(input(\"\\t\\tEnter your name\\t\\t\\t\\t\"))\n",
    "    father_name = str(input(\"\\t\\tEnter your father name\\t\\t\\t\"))\n",
    "    roll_no = str(input(\"\\t\\tEnter your Roll No\\t\\t\\t\"))\n",
    "    \n",
    "    maths = float(input(\"\\t\\tEnter the marks of Mathematcis\\t\\t\"))\n",
    "    computer = float(input(\"\\t\\tEnter the marks of Computer\\t\\t\"))\n",
    "    physics = float(input(\"\\t\\tEnter the marks of Physics\\t\\t\"))\n",
    "    urdu = float(input(\"\\t\\tEnter the marks of Urdu\\t\\t\\t\"))\n",
    "    english = float(input(\"\\t\\tEnter the marks of English\\t\\t\"))\n",
    "    print(\"\\n\\t\\t\\t....MATRIC MARKS SHEET....\")\n",
    "    \n",
    "    \n",
    "    print(\"\\n\\t\\tName          \",name)\n",
    "    print(\"\\n\\t\\tFather Name   \",father_name)\n",
    "    print(\"\\n\\t\\tRoll NO       \",roll_no)\n",
    "    \n",
    "    print(\"\\n\\n\\t\\tSUBJECT              Total marks\\t\\tObtain marks\")\n",
    "    \n",
    "    print(\"\\n\\t\\tMathematics   \",\"\\t\\t100\",\"\\t\\t\\t  \",maths)\n",
    "    print(\"\\n\\t\\tComputer      \",\"\\t\\t100\",\"\\t\\t\\t  \",computer)\n",
    "    print(\"\\n\\t\\tPhysics       \",\"\\t\\t100\",\"\\t\\t\\t  \",physics)\n",
    "    print(\"\\n\\t\\tUrdu          \",\"\\t\\t100\",\"\\t\\t\\t  \",urdu)\n",
    "    print(\"\\n\\t\\tEnglish       \",\"\\t\\t100\",\"\\t\\t\\t  \",english)\n",
    "    \n",
    "    marks =(maths+computer+physics+urdu+english)\n",
    "    total = 500\n",
    "    percentage = (marks/total)*100\n",
    "    \n",
    "    print(\"\\n\\t\\tPercentage\\t      \",percentage,\"%\")\n",
    "    \n",
    "    if percentage >= 80:\n",
    "        print(\"\\n\\t\\tYour grade is\\t\\t  A+\")\n",
    "    elif percentage >= 70:\n",
    "        print(\"\\n\\t\\tYour grade is\\t\\t  A\")\n",
    "    elif percentage >= 60:\n",
    "        print(\"\\n\\t\\tYour grade is\\t\\t  B\")\n",
    "    elif percentage >= 50:\n",
    "        print(\"\\n\\t\\tYour grade is\\t\\t  C\")\n",
    "    elif percentage >= 40:\n",
    "        print(\"\\n\\t\\tYour grade is\\t\\t  D\")\n",
    "    else:\n",
    "        print(\"\\n\\t\\tYou are fail\")\n",
    "marksheet()"
   ]
  },
  {
   "cell_type": "code",
   "execution_count": 18,
   "metadata": {},
   "outputs": [
    {
     "name": "stdout",
     "output_type": "stream",
     "text": [
      "Enter the intial veloccity 2\n",
      "Enter the acceleration 2\n",
      "Enter the time 3\n",
      "\n",
      "The final velocity is 8.0 m/s\n",
      "\n",
      "Enter the initial velocity 1\n",
      "Enter the time 2\n",
      "Enter the acceleration 4\n",
      "\n",
      "The displacement is 10.0 m\n",
      "\n",
      "Enter initial velocity 2\n",
      "Enter acceleration 5\n",
      "Enter displacement 1\n",
      "\n",
      "The final velocity is 3.7 m/s\n"
     ]
    }
   ],
   "source": [
    "# Q 6 to calculate three laws of motion in physics\n",
    "\n",
    "import math\n",
    "def law1():\n",
    "    \n",
    "    # first law of the motion v = u+a*t\n",
    "    u = float(input(\"Enter the intial veloccity \"))\n",
    "    a = float(input(\"Enter the acceleration \"))\n",
    "    t = float(input(\"Enter the time \"))\n",
    "    v = u + a * t\n",
    "    print(\"\\nThe final velocity is {0:.{1}f} m/s\".format(v,1))\n",
    "          \n",
    "law1()\n",
    "    \n",
    "def law2():\n",
    "    \n",
    "    # second law of the motion s = u*t + 1/2*a*t**2\n",
    "    \n",
    "    u = float(input(\"\\nEnter the initial velocity \"))\n",
    "    t = float(input(\"Enter the time \"))\n",
    "    a = float(input(\"Enter the acceleration \"))\n",
    "    s = u*t+(1/2)*a*t**2\n",
    "    print(\"\\nThe displacement is {0:.{1}f} m\".format(s,1))\n",
    "    \n",
    "law2()   \n",
    "    \n",
    "def law3():\n",
    "    \n",
    "    # third law of the motion v**2 = u**2 + 2*a*s\n",
    "    \n",
    "    u = float(input(\"\\nEnter initial velocity \"))\n",
    "    a = float(input(\"Enter acceleration \"))\n",
    "    s = float(input(\"Enter displacement \"))\n",
    "    v = math.sqrt(u**2 + 2*a*s)\n",
    "    print(\"\\nThe final velocity is {0:.{1}f} m/s\".format(v,1))\n",
    "law3()"
   ]
  },
  {
   "cell_type": "code",
   "execution_count": 19,
   "metadata": {},
   "outputs": [
    {
     "name": "stdout",
     "output_type": "stream",
     "text": [
      "Enter the the velocity along x-axis 2\n",
      "Enter the time taken 3\n",
      "The horizontal distance cover by the object is 6.00 m\n",
      "\n",
      "Enter the intial velocity 4\n",
      "The horizontal velocity is 4.00 m/s\n",
      "\n",
      "Enter the initial velocity along y-axis 2\n",
      "Enter the time taken by object 1\n",
      "The vertical velocity of the object is -2.90 m/s\n",
      "\n",
      "Enter the initial velocity of the object along  y-axis 5\n",
      "Enter the time taken by the object 2\n",
      "The vertical velocity of the object is -14.60 m/s\n"
     ]
    }
   ],
   "source": [
    "# Q7 to calculate projectile motion with UDF\n",
    "\n",
    "\n",
    "\n",
    "# For horizontal distance x = Vx * t\n",
    "\n",
    "def horizontaldistance():\n",
    "    v = float(input(\"Enter the the velocity along x-axis \"))\n",
    "    t = float(input(\"Enter the time taken \"))\n",
    "    x = v * t\n",
    "    print(\"The horizontal distance cover by the object is {0:.{1}f} m\".format(x,2))\n",
    "horizontaldistance()\n",
    "\n",
    "\n",
    "\n",
    "\n",
    "# For horizontal velocity V = Vxo\n",
    "\n",
    "def horizontalvelocity():\n",
    "    vx = float(input(\"\\nEnter the intial velocity \"))\n",
    "    v = vx\n",
    "    print(\"The horizontal velocity is {0:.{1}f} m/s\".format(v,2))\n",
    "horizontalvelocity()\n",
    "\n",
    "\n",
    "\n",
    "\n",
    "# For Vertical distance y = Vyo * t - 1/2 * g * t**2\n",
    "\n",
    "def verticaldistance():\n",
    "    Vyo = float(input(\"\\nEnter the initial velocity along y-axis \"))\n",
    "    t = float(input(\"Enter the time taken by object \"))\n",
    "    g = 9.8\n",
    "    y = Vyo * t - 1/2 * g * t**2\n",
    "    print(\"The vertical velocity of the object is {0:.{1}f} m/s\".format(y,2))\n",
    "verticaldistance()\n",
    "\n",
    "\n",
    "\n",
    "\n",
    "# For the vertical velocoty Vy =Vyo - g*t\n",
    "\n",
    "def verticalvelocity():\n",
    "    Vyo = float(input(\"\\nEnter the initial velocity of the object along  y-axis \"))\n",
    "    t = float(input(\"Enter the time taken by the object \"))\n",
    "    g = 9.8\n",
    "    vy = Vyo - g*t\n",
    "    print(\"The vertical velocity of the object is {0:.{1}f} m/s\".format(vy,2))\n",
    "verticalvelocity()\n"
   ]
  },
  {
   "cell_type": "code",
   "execution_count": 9,
   "metadata": {},
   "outputs": [
    {
     "name": "stdout",
     "output_type": "stream",
     "text": [
      "Enter the name adnan\n",
      "Your name in reverse is  nanda\n"
     ]
    }
   ],
   "source": [
    "# Q8 to generate our name in reverse form with UDF\n",
    "\n",
    "def name():\n",
    "    name = str(input(\"Enter the name \"))\n",
    "    r_name = name[::-1]\n",
    "    print(\"Your name in reverse is \",r_name)\n",
    "name()"
   ]
  },
  {
   "cell_type": "code",
   "execution_count": 8,
   "metadata": {},
   "outputs": [
    {
     "data": {
      "text/plain": [
       "['Y']"
      ]
     },
     "execution_count": 8,
     "metadata": {},
     "output_type": "execute_result"
    }
   ],
   "source": [
    "# Q9 to encrypt our message with UDF\n",
    "\n",
    "def message_encrpt(realText,step):\n",
    "    outText = []\n",
    "    cryptText = []\n",
    "    \n",
    "    uppercase = ['A','B','C','D','E','F','G','H','I','J','K','L','M','N','O','P','Q','R','S','T','U','V','W','X','Y','Z']\n",
    "    lowercase = ['a','b','c','d','e','f','g','h','i','j','k','l','m','n','o','p','q','r','s','t','u','v','w','x','y','z']\n",
    "    \n",
    "    for eachLetter in realText:\n",
    "        \n",
    "        if eachLetter in uppercase:\n",
    "            index = uppercase.index(eachLetter)\n",
    "            crypting = (index + step) % 26\n",
    "            cryptText.append(crypting)\n",
    "            newLetter = uppercase[crypting]\n",
    "            outText.append(newLetter)\n",
    "        \n",
    "        elif eachLetter in lowercase:\n",
    "            index = lowercase.index(eachLetter)\n",
    "            crypting = (index + step) % 26\n",
    "            cryptText.append(crypting)\n",
    "            newLetter = lowercase[crypting]\n",
    "            outText.append(newLetter)\n",
    "        return outText\n",
    "message_encrpt('Welcome sir',2)\n",
    "        "
   ]
  },
  {
   "cell_type": "code",
   "execution_count": 1,
   "metadata": {},
   "outputs": [
    {
     "name": "stdout",
     "output_type": "stream",
     "text": [
      "Enter the initial value 30\n",
      "Enterm the final value 180\n",
      "sin on {0}: -0.9880316240928618\n",
      "cos on {0}: 0.15425144988758405\n",
      "tan on {0}: -6.405331196646276\n",
      "sin on {0}: -0.3048106211022167\n",
      "cos on {0}: -0.9524129804151563\n",
      "tan on {0}: 0.320040389379563\n",
      "sin on {0}: 0.8939966636005579\n",
      "cos on {0}: -0.4480736161291701\n",
      "tan on {0}: -1.995200412208242\n",
      "sin on {0}: 0.5806111842123143\n",
      "cos on {0}: 0.8141809705265618\n",
      "tan on {0}: 0.7131230097859091\n",
      "sin on {0}: -0.7148764296291646\n",
      "cos on {0}: 0.6992508064783751\n",
      "tan on {0}: -1.0223462354365875\n",
      "sin on {0}: -0.8011526357338304\n",
      "cos on {0}: -0.5984600690578581\n",
      "tan on {0}: 1.3386902103511544\n"
     ]
    }
   ],
   "source": [
    "# Q10 To generate table of sin(),cos(),tan() with UDF\n",
    "\n",
    "from math import sin,cos,tan\n",
    "\n",
    "def table():\n",
    "    x = int(input(\"Enter the initial value \"))\n",
    "    y = int(input(\"Enterm the final value \"))\n",
    "    for i in range (x,y+30,30):\n",
    "        \n",
    "        \n",
    "        print(\"sin on {0}:\",sin(i))\n",
    "        print(\"cos on {0}:\",cos(i))\n",
    "        print(\"tan on {0}:\",tan(i))\n",
    "table()\n",
    "        "
   ]
  },
  {
   "cell_type": "code",
   "execution_count": 16,
   "metadata": {},
   "outputs": [
    {
     "name": "stdout",
     "output_type": "stream",
     "text": [
      "Area of bigger circle is  615.7521601035994\n",
      "Area with semi circles is  251.3274122871834\n",
      "\n",
      "\n",
      "Perimeter of bigger circle is  43.982297150257104\n",
      "Perimeter with two semi circle is  131.94689145077132\n"
     ]
    }
   ],
   "source": [
    "# Q11 to find area and perimeter of big circle and and with two small circle\n",
    "\n",
    "from math import pi\n",
    "\n",
    "def area():\n",
    "    radius = 14\n",
    "    r2 = 4\n",
    "    r3 = 10\n",
    "    area = (pi*radius**2)\n",
    "    print(\"Area of bigger circle is \",area)\n",
    "    area2 = (pi*r2**2)\n",
    "    area3 = (pi*r3**2)\n",
    "    area4 = area-(area2+area3)\n",
    "    print(\"Area with semi circles is \",area4)\n",
    "area()\n",
    "\n",
    "def perimeter():\n",
    "    print('\\n')\n",
    "    Radius = 14\n",
    "    r2 = 8\n",
    "    r3 = 6\n",
    "    perimeter = (2*pi*Radius)/2\n",
    "    print(\"Perimeter of bigger circle is \",perimeter)\n",
    "    perimeter2 = (2*pi*r2)\n",
    "    perimeter3 = (2*pi*r3)\n",
    "    perimeter4 = perimeter + perimeter2 + perimeter3\n",
    "    print(\"Perimeter with two semi circle is \",perimeter4)\n",
    "perimeter()"
   ]
  }
 ],
 "metadata": {
  "kernelspec": {
   "display_name": "Python 3",
   "language": "python",
   "name": "python3"
  },
  "language_info": {
   "codemirror_mode": {
    "name": "ipython",
    "version": 3
   },
   "file_extension": ".py",
   "mimetype": "text/x-python",
   "name": "python",
   "nbconvert_exporter": "python",
   "pygments_lexer": "ipython3",
   "version": "3.7.3"
  }
 },
 "nbformat": 4,
 "nbformat_minor": 2
}

{
 "cells": [
  {
   "cell_type": "code",
   "execution_count": 2,
   "metadata": {},
   "outputs": [
    {
     "name": "stdout",
     "output_type": "stream",
     "text": [
      "[10, 22, 44, 4]\n",
      "[10, 22, 44, 4]\n"
     ]
    }
   ],
   "source": [
    "original_list = [10,22,44,4]\n",
    "new_list2 = list(original_list)\n",
    "print(original_list)\n",
    "print(new_list2)"
   ]
  },
  {
   "cell_type": "code",
   "execution_count": null,
   "metadata": {},
   "outputs": [],
   "source": []
  },
  {
   "cell_type": "code",
   "execution_count": 3,
   "metadata": {},
   "outputs": [
    {
     "name": "stdout",
     "output_type": "stream",
     "text": [
      "()\n",
      "()\n"
     ]
    }
   ],
   "source": [
    "#create an empty tuple\n",
    "x = ()\n",
    "print(x)\n",
    "#create an empty tuple with tuple() function built-in python\n",
    "tuple1 = tuple()\n",
    "print(tuple1)"
   ]
  },
  {
   "cell_type": "code",
   "execution_count": 4,
   "metadata": {},
   "outputs": [
    {
     "name": "stdout",
     "output_type": "stream",
     "text": [
      "('tuple', False, 3, 2, 1)\n"
     ]
    }
   ],
   "source": [
    "#create a tuple with different data types\n",
    "tuple2 = (\"tuple\",False,3,2,1)\n",
    "print(tuple2)"
   ]
  },
  {
   "cell_type": "code",
   "execution_count": 5,
   "metadata": {},
   "outputs": [
    {
     "name": "stdout",
     "output_type": "stream",
     "text": [
      "('U', 'I', 'T', '2', '0', '1', '8', 'b', 'a', 't', 'c', 'h')\n",
      "2\n",
      "a\n"
     ]
    }
   ],
   "source": [
    "#Get an item of the tuple\n",
    "tuplex = (\"U\",\"I\",\"T\",\"2\",\"0\",\"1\",\"8\",\"b\",\"a\",\"t\",\"c\",\"h\")\n",
    "print(tuplex)\n",
    "#Get item (4th element)of the tuple by index\n",
    "item = tuplex[3]\n",
    "print(item)\n",
    "#Get item(4th element from last)by index negative\n",
    "item1 = tuplex[-4]\n",
    "print(item1)"
   ]
  },
  {
   "cell_type": "code",
   "execution_count": 6,
   "metadata": {},
   "outputs": [
    {
     "data": {
      "text/plain": [
       "[2, 3, 4, 5, 6]"
      ]
     },
     "execution_count": 6,
     "metadata": {},
     "output_type": "execute_result"
    }
   ],
   "source": [
    "lst = [2,3,4]\n",
    "lst.extend([5,6])\n",
    "lst\n",
    "[2,3,4,5,6]\n",
    "lst2 = lst.copy()\n",
    "lst2\n",
    "[2,3,4,5,6]\n",
    "lst.clear()\n",
    "lst\n",
    "[]\n",
    "lst2\n",
    "[2,3,4,5,6]"
   ]
  },
  {
   "cell_type": "code",
   "execution_count": 7,
   "metadata": {},
   "outputs": [
    {
     "name": "stdout",
     "output_type": "stream",
     "text": [
      "The different between these date is 365\n"
     ]
    }
   ],
   "source": [
    "from datetime import date\n",
    "date1 = date(2018,10,30)\n",
    "date2 = date(2019,10,30)\n",
    "fdate = date2 - date1\n",
    "print(\"The different between these date is \"+str(fdate.days))"
   ]
  },
  {
   "cell_type": "code",
   "execution_count": 8,
   "metadata": {},
   "outputs": [
    {
     "name": "stdout",
     "output_type": "stream",
     "text": [
      "The heigth of the ladder with length 16 and angle 20 is  15.454813220625093\n",
      "The heigth of the ladder with length 16 and angle 20 is  0.0\n",
      "The heigth of the ladder with length 16 and angle 20 is  16.97056274847714\n",
      "The heigth of the ladder with length 16 and angle 20 is  23.63538607229299\n"
     ]
    }
   ],
   "source": [
    "from math import pi\n",
    "from math import sin\n",
    "length1 = (16)\n",
    "length2 = (20)\n",
    "length3 = (24)\n",
    "length4 = (24)\n",
    "angle1 = (75)\n",
    "angle2 = (0)\n",
    "angle3 = (45)\n",
    "angle4 = (80)\n",
    "\n",
    "#For 1st ladder\n",
    "radian = pi *angle1/180\n",
    "height1=length1*sin(radian)\n",
    "print(\"The heigth of the ladder with length 16 and angle 20 is  \"+str(height1))\n",
    "\n",
    "#for 2nd ladder\n",
    "radian = pi *angle2/180\n",
    "height2=length1*sin(radian)\n",
    "print(\"The heigth of the ladder with length 16 and angle 20 is  \"+str(height2))\n",
    "\n",
    "#for 3rd ladder\n",
    "radian = pi *angle3/180\n",
    "height3=length3*sin(radian)\n",
    "print(\"The heigth of the ladder with length 16 and angle 20 is  \"+str(height3))\n",
    "\n",
    "#for 4th ladder\n",
    "radian = pi *angle4/180\n",
    "height4=length4*sin(radian)\n",
    "print(\"The heigth of the ladder with length 16 and angle 20 is  \"+str(height4))"
   ]
  },
  {
   "cell_type": "code",
   "execution_count": 30,
   "metadata": {},
   "outputs": [
    {
     "name": "stdout",
     "output_type": "stream",
     "text": [
      "Middle index value of the list is : 2.0\n",
      "Middle value of the list is : 3\n",
      "Reverse sorted vaule of list : [5, 4, 3, 2, 1]\n",
      "After removing 1st number and putting it in the end [2, 3, 4, 5, 1]\n"
     ]
    }
   ],
   "source": [
    "# Q3\n",
    "\n",
    "list = [1,2,3,4,5]\n",
    "middleindex = (len(list)-1)/2\n",
    "print(\"Middle index value of the list is : \"+str(middleindex))\n",
    "\n",
    "midvalue = list[int(len(list)/2)]\n",
    "print(\"Middle value of the list is : \"+str(midvalue))\n",
    "\n",
    "sort = sorted(list,reverse=True)\n",
    "print(\"Reverse sorted vaule of list : \"+str(sort))\n",
    "\n",
    "list.remove(1)\n",
    "list.insert(4,1)\n",
    "print(\"After removing 1st number and putting it in the end \"+str(list))\n"
   ]
  },
  {
   "cell_type": "code",
   "execution_count": 10,
   "metadata": {},
   "outputs": [
    {
     "name": "stdout",
     "output_type": "stream",
     "text": [
      "After append ['Jan', 'Feb', 'Mar', 'May', 'Jun']\n",
      "Gives an error on tuple\n",
      "\n",
      "Inserting Apr in monthL: ['Jan', 'Feb', 'Mar', 'Apr', 'May', 'Jun']\n",
      "Inserting Apr on tuple gives an error\n",
      "\n",
      "After applying pop on the monthL : ['Jan', 'Feb', 'Mar', 'Apr', 'May']\n",
      "Inserting gives error on tuple\n",
      "\n",
      "Removing item on List monthL['Jan', 'Mar', 'Apr', 'May']\n",
      "Gives an error on tuple\n",
      "\n",
      "revers on the list monthL['May', 'Apr', 'Mar', 'Jan']\n",
      "Gives an error on tuple\n",
      "\n",
      "sorting on list monthL['Apr', 'Jan', 'Mar', 'May']\n",
      "Gives an error on tuple\n"
     ]
    }
   ],
   "source": [
    "# Q4\n",
    "monthsL = ['Jan','Feb','Mar','May']\n",
    "monthsT = ('Jan','Feb','Mar','May')\n",
    "\n",
    "monthsL.append(\"Jun\")\n",
    "print(\"After append \"+str(monthsL))\n",
    "print(\"Gives an error on tuple\")\n",
    "\n",
    "monthsL.insert(3,\"Apr\")\n",
    "print(\"\\nInserting Apr in monthL: \" + str(monthsL))\n",
    "print(\"Inserting Apr on tuple gives an error\")\n",
    "\n",
    "monthsL.pop()\n",
    "print(\"\\nAfter applying pop on the monthL : \" + str(monthsL))\n",
    "print(\"Inserting gives error on tuple\")\n",
    "\n",
    "monthsL.remove(\"Feb\")\n",
    "print(\"\\nRemoving item on List monthL\"+str(monthsL))\n",
    "print(\"Gives an error on tuple\")\n",
    "\n",
    "monthsL.reverse()\n",
    "print(\"\\nrevers on the list monthL\"+str(monthsL))\n",
    "print(\"Gives an error on tuple\")\n",
    "\n",
    "monthsL.sort()\n",
    "print(\"\\nsorting on list monthL\"+str(monthsL))\n",
    "print(\"Gives an error on tuple\")\n"
   ]
  },
  {
   "cell_type": "code",
   "execution_count": 11,
   "metadata": {},
   "outputs": [
    {
     "name": "stdout",
     "output_type": "stream",
     "text": [
      "Number of character in anachronistically is 17\n",
      "Number of character in counterintuitive is 16\n",
      "The number of charcter in the word anachronistically is 1 less then in word counterintuitive\n",
      "\n",
      "\n",
      "    After sorting \n",
      "['misinterpretation', 'misrepresentation']\n",
      "\n",
      "\n",
      "The number of time e appear in the floccinaucinihilipilification is : 0\n",
      "\n",
      "\n",
      "Number of character in the word counterrevolution is : 17\n",
      "Sum of the counter and revolution is : 17\n"
     ]
    }
   ],
   "source": [
    "\n",
    "# Q5\n",
    "a = 'anachronistically'\n",
    "b = 'counterintuitive'\n",
    "print(\"Number of character in anachronistically is \"+str(len(a)))\n",
    "print(\"Number of character in counterintuitive is \"+str(len(b)))\n",
    "print(\"The number of charcter in the word anachronistically is \" +str(len(a)-len(b))+\" less then in word counterintuitive\")\n",
    "\n",
    "var = ['misrepresentation','misinterpretation']\n",
    "var.sort()\n",
    "print(\"\\n\\n    After sorting \")\n",
    "print(var)\n",
    "\n",
    "word='floccinaucinihilipilification'\n",
    "print(\"\\n\\nThe number of time e appear in the floccinaucinihilipilification is : \"+str(word.count(\"e\")))\n",
    "\n",
    "w1='counterrevolution'\n",
    "w2='counter'\n",
    "w3='revolution'\n",
    "print(\"\\n\\nNumber of character in the word counterrevolution is : \"+str(len(w1)))\n",
    "print(\"Sum of the counter and revolution is : \"+str(len(w2)+(len(w3))))"
   ]
  },
  {
   "cell_type": "code",
   "execution_count": 12,
   "metadata": {},
   "outputs": [
    {
     "name": "stdout",
     "output_type": "stream",
     "text": [
      "value of a is: 6 value of b is : 7 And their average is : 6.5\n",
      "\n",
      "Inventory contain  ['paper', 'staples', 'pencils']\n",
      "\n",
      "fullname is john fitzgerald kennedy\n"
     ]
    }
   ],
   "source": [
    "# Q6\n",
    "a = 6\n",
    "b = 7\n",
    "c = (a+b)/2\n",
    "print(\"value of a is: \" + str(a)+ \" value of b is : \"+str(b)+\" And their average is : \"+str(c) )\n",
    "\n",
    "inventory=['paper','staples','pencils']\n",
    "print(\"\\nInventory contain  \"+str(inventory))\n",
    "\n",
    "first = 'john '\n",
    "middle = 'fitzgerald '\n",
    "last = 'kennedy'\n",
    "fullname = first + middle + last\n",
    "print(\"\\nfullname is \"+str(fullname) )\n"
   ]
  },
  {
   "cell_type": "code",
   "execution_count": 1,
   "metadata": {},
   "outputs": [
    {
     "name": "stdout",
     "output_type": "stream",
     "text": [
      "True\n",
      "False\n",
      "True\n",
      "False\n"
     ]
    }
   ],
   "source": [
    "# Q7\n",
    "\n",
    "import math\n",
    "r=10\n",
    "X=0\n",
    "Y=0\n",
    "a=math.sqrt((0-0)**2+(0-0)**2)\n",
    "b=math.sqrt((10-0)**2+(10-0)**2)\n",
    "c=math.sqrt((6-0)**2+(6-0)**2)\n",
    "d=math.sqrt((8-0)**2+(7-0)**2)\n",
    "print(a<r)\n",
    "print(b<r)\n",
    "print(c<r)\n",
    "print(d<r)"
   ]
  }
 ],
 "metadata": {
  "kernelspec": {
   "display_name": "Python 3",
   "language": "python",
   "name": "python3"
  },
  "language_info": {
   "codemirror_mode": {
    "name": "ipython",
    "version": 3
   },
   "file_extension": ".py",
   "mimetype": "text/x-python",
   "name": "python",
   "nbconvert_exporter": "python",
   "pygments_lexer": "ipython3",
   "version": "3.7.3"
  }
 },
 "nbformat": 4,
 "nbformat_minor": 2
}

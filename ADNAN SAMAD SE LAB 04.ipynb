{
 "cells": [
  {
   "cell_type": "code",
   "execution_count": 12,
   "metadata": {},
   "outputs": [
    {
     "name": "stdout",
     "output_type": "stream",
     "text": [
      "Enter the value of the a: 6\n",
      "Enter the value of the b: 2\n",
      "Enter the value of the c: 6\n",
      "There is no real solution\n"
     ]
    }
   ],
   "source": [
    "import math\n",
    "a = (float(input(\"Enter the value of the a: \")))\n",
    "b = (float(input(\"Enter the value of the b: \")))\n",
    "c = (float(input(\"Enter the value of the c: \")))\n",
    "\n",
    "d = b**2-4*a*c # Declear d\n",
    "\n",
    "if d<0:\n",
    "    print(\"There is no real solution\")\n",
    "elif d==0:\n",
    "    x= (-b+math.sqrt(b**2-4*a*c))/2*a\n",
    "    print(\"There is only one  solution: \",x)\n",
    "else:\n",
    "    x1 = (-b+math.sqrt(b**2)-4*a*c)/(2*a)\n",
    "    x2 = (-b-math.sqrt(b**2)-4*a*c)/(2*a)\n",
    "    print(\"There are two solution: \",x1 ,\" or\",x2)"
   ]
  },
  {
   "cell_type": "code",
   "execution_count": 16,
   "metadata": {},
   "outputs": [
    {
     "name": "stdout",
     "output_type": "stream",
     "text": [
      "Enter the first number 3\n",
      "Enter the common difference 6\n",
      "Enter the nth term35\n",
      "The nth term is  207\n",
      "DO you want to continue then press YES \n",
      "YES OR NO NO\n",
      "THANK YOU SIR ENJOY YOUR DAY\n"
     ]
    }
   ],
   "source": [
    "a = int(input(\"Enter the first number \"))\n",
    "d = int(input(\"Enter the common difference \"))\n",
    "y = 'YES'\n",
    "\n",
    "for i in range (0,100):\n",
    "    if y == 'YES':\n",
    "        n = int(input(\"Enter the nth term\"))\n",
    "        t = a+(n-1)*d\n",
    "        print(\"The nth term is \",t)\n",
    "        print(\"DO you want to continue then press YES \")\n",
    "        y = input(\"YES OR NO \")\n",
    "if y == 'NO':\n",
    "    print(\"THANK YOU SIR ENJOY YOUR DAY\")\n",
    "else:\n",
    "    print(\"You input wrong string\")"
   ]
  },
  {
   "cell_type": "code",
   "execution_count": 17,
   "metadata": {},
   "outputs": [
    {
     "name": "stdout",
     "output_type": "stream",
     "text": [
      "Enter the word Civic\n",
      "Yes you string is palindrone \n"
     ]
    }
   ],
   "source": [
    "x = str(input(\"Enter the word \"))\n",
    "y = x.casefold() #casefold() will covert all the latter in lowercase so it will be easy to check palindrone\n",
    "z = y[::-1] # [::-1] means to make a copy in reverse \n",
    "if y == z:\n",
    "    print(\"Yes you string is palindrone \")\n",
    "else:\n",
    "    (\"No your strinf is not palindrone \")"
   ]
  },
  {
   "cell_type": "code",
   "execution_count": 1,
   "metadata": {},
   "outputs": [
    {
     "name": "stdout",
     "output_type": "stream",
     "text": [
      "\t\tEnter your name ADNAN SAMAD\n",
      "\t\tEnter your father name MIR SAMAD KHAN\n",
      "\t\tEnter your roll no 10025\n",
      "\t\tEnter the marks of Mathemetics  89\n",
      "\t\tEnter the marks of Computer  99\n",
      "\t\tEnter the marks of Physics  58\n",
      "\t\tEnter the marks of Urdu  52\n",
      "\t\tEnter the marks of English  58\n",
      "\n",
      "\n",
      "\t\t\t...MATRIC MARK SHEET...\n",
      "\n",
      "\t\tStudent Name    ADNAN SAMAD\n",
      "\n",
      "\t\tFather Name     MIR SAMAD KHAN\n",
      "\n",
      "\t\tRoll Number     10025\n",
      "\n",
      "\t\tMark obtain in Mathematics    89.0\n",
      "\n",
      "\t\tMark obtain in Computer       99.0\n",
      "\n",
      "\t\tMark obtain in Physics        58.0\n",
      "\n",
      "\t\tMark obtain in English        58.0\n",
      "\n",
      "\t\tMark obtain in Urdu           52.0\n",
      "\n",
      "\t\tYour total Marks is           356.0\n",
      "\n",
      "\t\tYour percentage is            71.2 %\n",
      "\n",
      "\t\tYour grade is A\n"
     ]
    }
   ],
   "source": [
    "name = str(input(\"\\t\\tEnter your name \"))\n",
    "father_name = str(input(\"\\t\\tEnter your father name \"))\n",
    "roll_no = int(input(\"\\t\\tEnter your roll no \"))\n",
    "maths = float(input(\"\\t\\tEnter the marks of Mathemetics  \"))\n",
    "computer = float(input(\"\\t\\tEnter the marks of Computer  \"))\n",
    "physics = float(input(\"\\t\\tEnter the marks of Physics  \"))\n",
    "urdu = float(input(\"\\t\\tEnter the marks of Urdu  \"))\n",
    "English = float(input(\"\\t\\tEnter the marks of English  \"))\n",
    "obt_marks = maths+computer+physics+urdu+English\n",
    "t_marks = 500\n",
    "percentage = (obt_marks/t_marks)*100\n",
    "\n",
    "print(\"\\n\\n\\t\\t\\t...MATRIC MARK SHEET...\")\n",
    "print(\"\\n\\t\\tStudent Name   \",name)\n",
    "print(\"\\n\\t\\tFather Name    \",father_name)\n",
    "print(\"\\n\\t\\tRoll Number    \",roll_no)\n",
    "print(\"\\n\\t\\tMark obtain in Mathematics   \",maths)\n",
    "print(\"\\n\\t\\tMark obtain in Computer      \",computer)\n",
    "print(\"\\n\\t\\tMark obtain in Physics       \",physics)\n",
    "print(\"\\n\\t\\tMark obtain in English       \",English)\n",
    "print(\"\\n\\t\\tMark obtain in Urdu          \",urdu)\n",
    "print(\"\\n\\t\\tYour total Marks is          \",obt_marks)\n",
    "print(\"\\n\\t\\tYour percentage is           \",percentage,\"%\")\n",
    "if percentage >= 80:\n",
    "    print(\"\\n\\t\\tYour grade is A+\")\n",
    "elif percentage >= 70:\n",
    "          print(\"\\n\\t\\tYour grade is A\")\n",
    "elif percentage >= 60:\n",
    "          print(\"\\n\\t\\tYour grade is B\")\n",
    "elif percentage >= 50:\n",
    "          print(\"\\n\\t\\tYour grade is C\")\n",
    "elif percentage >= 40:\n",
    "          print(\"\\n\\t\\tYour grade is D\")\n",
    "else:\n",
    "    print(\"\\n\\t\\tyou are fail\")"
   ]
  },
  {
   "cell_type": "code",
   "execution_count": 11,
   "metadata": {},
   "outputs": [
    {
     "name": "stdout",
     "output_type": "stream",
     "text": [
      "1 2 3 4 \n",
      "\n",
      "2 4 6 8 \n",
      "\n",
      "3 6 9 12 \n",
      "\n",
      "4 8 12 16 \n",
      "\n"
     ]
    }
   ],
   "source": [
    "for i in range(1,5):\n",
    "    for j in range (1,5):\n",
    "        k = i* j\n",
    "        print(k,end=(' '))\n",
    "    print(\"\\n\")"
   ]
  },
  {
   "cell_type": "code",
   "execution_count": 3,
   "metadata": {},
   "outputs": [
    {
     "name": "stdout",
     "output_type": "stream",
     "text": [
      "Enter the values of first matrices\n",
      "Enter the value 1\n",
      "Enter the value 2\n",
      "Enter the value 3\n",
      "Enter the value 4\n",
      "Enter the value 5\n",
      "Enter the value 6\n",
      "Enter the value 7\n",
      "Enter the value 8\n",
      "Enter the value 9\n",
      "\n",
      "Enter the values of second matrices\n",
      "Enter the value 1\n",
      "Enter the value 2\n",
      "Enter the value 3\n",
      "Enter the value 4\n",
      "Enter the value 5\n",
      "Enter the value 6\n",
      "Enter the value 7\n",
      "Enter the value 8\n",
      "Enter the value 9\n",
      "\n",
      "\n",
      "\n",
      "\n",
      "[2, 4, 6]\n",
      "[8, 10, 12]\n",
      "[14, 16, 18]\n"
     ]
    }
   ],
   "source": [
    "print(\"Enter the values of first matrices\")\n",
    "a = int(input(\"Enter the value \"))\n",
    "b = int(input(\"Enter the value \"))\n",
    "c = int(input(\"Enter the value \"))\n",
    "d = int(input(\"Enter the value \"))\n",
    "e = int(input(\"Enter the value \"))\n",
    "f = int(input(\"Enter the value \"))\n",
    "g = int(input(\"Enter the value \"))\n",
    "h = int(input(\"Enter the value \"))\n",
    "i = int(input(\"Enter the value \"))\n",
    "\n",
    "print(\"\\nEnter the values of second matrices\")\n",
    "j = int(input(\"Enter the value \"))\n",
    "k = int(input(\"Enter the value \"))\n",
    "l = int(input(\"Enter the value \"))\n",
    "m = int(input(\"Enter the value \"))\n",
    "n = int(input(\"Enter the value \"))\n",
    "o = int(input(\"Enter the value \"))\n",
    "p = int(input(\"Enter the value \"))\n",
    "q = int(input(\"Enter the value \"))\n",
    "r = int(input(\"Enter the value \"))\n",
    "print(\"\\n\")\n",
    "\n",
    "x = [[a,b,c],\n",
    "     [d,e,f],\n",
    "     [g,h,i]]\n",
    "\n",
    "y = [[j,k,l],\n",
    "    [m,n,o],\n",
    "    [p,q,r]]\n",
    "\n",
    "print(\"\\n\")\n",
    "\n",
    "\n",
    "\n",
    "\n",
    "result = [[0,0,0],\n",
    "         [0,0,0],\n",
    "         [0,0,0]]\n",
    "\n",
    "#iterate through rows\n",
    "for i in range(len(x)):\n",
    "    for j in range(len(x[0])):\n",
    "        result[i][j] = x[i][j] + y[i][j]\n",
    "\n",
    "for r in result:\n",
    "    print(r)"
   ]
  },
  {
   "cell_type": "code",
   "execution_count": 4,
   "metadata": {},
   "outputs": [
    {
     "name": "stdout",
     "output_type": "stream",
     "text": [
      "Enter the values of first matrices\n",
      "Enter the value 2\n",
      "Enter the value 3\n",
      "Enter the value 4\n",
      "Enter the value 5\n",
      "Enter the value 6\n",
      "Enter the value 7\n",
      "Enter the value 8\n",
      "Enter the value 9\n",
      "Enter the value 0\n",
      "\n",
      "Enter the values of second matrices\n",
      "Enter the value 1\n",
      "Enter the value 2\n",
      "Enter the value 3\n",
      "Enter the value 4\n",
      "Enter the value 5\n",
      "Enter the value 6\n",
      "Enter the value 7\n",
      "Enter the value 8\n",
      "Enter the value 9\n",
      "\n",
      "\n",
      "[2, 6, 12]\n",
      "[20, 30, 42]\n",
      "[56, 72, 0]\n"
     ]
    }
   ],
   "source": [
    "print(\"Enter the values of first matrices\")\n",
    "a = int(input(\"Enter the value \"))\n",
    "b = int(input(\"Enter the value \"))\n",
    "c = int(input(\"Enter the value \"))\n",
    "d = int(input(\"Enter the value \"))\n",
    "e = int(input(\"Enter the value \"))\n",
    "f = int(input(\"Enter the value \"))\n",
    "g = int(input(\"Enter the value \"))\n",
    "h = int(input(\"Enter the value \"))\n",
    "i = int(input(\"Enter the value \"))\n",
    "\n",
    "print(\"\\nEnter the values of second matrices\")\n",
    "j = int(input(\"Enter the value \"))\n",
    "k = int(input(\"Enter the value \"))\n",
    "l = int(input(\"Enter the value \"))\n",
    "m = int(input(\"Enter the value \"))\n",
    "n = int(input(\"Enter the value \"))\n",
    "o = int(input(\"Enter the value \"))\n",
    "p = int(input(\"Enter the value \"))\n",
    "q = int(input(\"Enter the value \"))\n",
    "r = int(input(\"Enter the value \"))\n",
    "\n",
    "print(\"\\n\")\n",
    "x = [[a,b,c],\n",
    "     [d,e,f],\n",
    "     [g,h,i]]\n",
    "\n",
    "y = [[j,k,l],\n",
    "    [m,n,o],\n",
    "    [p,q,r]]\n",
    "\n",
    "result = [[0,0,0],\n",
    "         [0,0,0],\n",
    "         [0,0,0]]\n",
    "\n",
    "#iterate through rows\n",
    "for i in range(len(x)):\n",
    "    for j in range(len(y[0])):\n",
    "        result[i][j] = x[i][j] * y[i][j]\n",
    "\n",
    "for r in result:\n",
    "    print(r)"
   ]
  }
 ],
 "metadata": {
  "kernelspec": {
   "display_name": "Python 3",
   "language": "python",
   "name": "python3"
  },
  "language_info": {
   "codemirror_mode": {
    "name": "ipython",
    "version": 3
   },
   "file_extension": ".py",
   "mimetype": "text/x-python",
   "name": "python",
   "nbconvert_exporter": "python",
   "pygments_lexer": "ipython3",
   "version": "3.7.3"
  }
 },
 "nbformat": 4,
 "nbformat_minor": 2
}
